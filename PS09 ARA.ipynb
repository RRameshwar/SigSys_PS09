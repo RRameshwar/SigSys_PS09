{
 "metadata": {
  "name": "",
  "signature": "sha256:003f96fdfcbcee5ab52c03662b938fa00d9bc438219b86b835bbfaca8197ff33"
 },
 "nbformat": 3,
 "nbformat_minor": 0,
 "worksheets": [
  {
   "cells": [
    {
     "cell_type": "code",
     "collapsed": false,
     "input": [
      "from scipy.io import wavfile\n",
      "import numpy as np\n",
      "import matplotlib.pyplot as mplib\n",
      "import thinkdsp\n",
      "import thinkplot\n",
      "from array import array"
     ],
     "language": "python",
     "metadata": {},
     "outputs": [],
     "prompt_number": 66
    },
    {
     "cell_type": "code",
     "collapsed": false,
     "input": [
      "# This function converts a string into a numpy array of bits\n",
      "# note that it is assumed that each character is 7 bits long here\n",
      "def string2NPArray(s):\n",
      "    bits = np.array([])\n",
      "    for a in bytearray(s, 'ascii'):\n",
      "        for b in range(0,7):\n",
      "            bits = np.append(bits,float((a>>(7-b-1))&1))\n",
      "    return bits\n",
      "\n",
      "# This function converts a numpy array of bits to a string\n",
      "# note that it is assumed that each character is 7 bits long here\n",
      "def NPbits2String(bits):\n",
      "    S = \"\"\n",
      "    for a in np.arange(0, np.ceil(len(bits)/7)):\n",
      "        tmp = 0\n",
      "        for k in np.arange(0,7):\n",
      "            b = bits[a*7+k]\n",
      "            tmp = tmp + (2**(6-k))*b\n",
      "        S = S + chr(int(tmp))\n",
      "    return S\n",
      "\n",
      "# this function is used to help convert numpy array data into a format\n",
      "# suitable for writing into a wave file\n",
      "def convert_to_int16(sig):\n",
      "    # convert into int16  to write as wave\n",
      "    sig = (sig/np.max(sig))*(2**14)\n",
      "    sig = sig.astype('int16')\n",
      "    return sig"
     ],
     "language": "python",
     "metadata": {},
     "outputs": [],
     "prompt_number": 67
    },
    {
     "cell_type": "code",
     "collapsed": false,
     "input": [
      "array = string2NPArray(\"a\")"
     ],
     "language": "python",
     "metadata": {},
     "outputs": [],
     "prompt_number": 68
    },
    {
     "cell_type": "code",
     "collapsed": false,
     "input": [
      "def ARAencoding(array):\n",
      "    array2 = np.insert(array,0,1)\n",
      "    for a in range(len(array2)):\n",
      "        if array2[a] == 0:\n",
      "            array2[a] = -1\n",
      "    \n",
      "    for a in range(0, len(array2)*2-2, 2):\n",
      "        array2 = np.insert(array2, a+1, 0)\n",
      "\n",
      "    return array2\n",
      "\n",
      "def createTransmission(array):\n",
      "    rate = 8820 #samples/sec\n",
      "    sym_length = 250.0 #samples\n",
      "    Ts = sym_length/rate  #sec\n",
      "    blip_len = Ts/2.0\n",
      "    print blip_len\n",
      "    \n",
      "    x = np.arange(len(array))\n",
      "    x = x*blip_len \n",
      "    \n",
      "    print x\n",
      "    #mplib.plot(x, array)\n",
      "    \n",
      "    \n",
      "    \n",
      "\n",
      "    "
     ],
     "language": "python",
     "metadata": {},
     "outputs": [],
     "prompt_number": 69
    },
    {
     "cell_type": "code",
     "collapsed": false,
     "input": [
      "print array\n",
      "encoded = ARAencoding(array)\n",
      "#print(createTransmission(encoded))\n",
      "\n",
      "createTransmission(encoded)"
     ],
     "language": "python",
     "metadata": {},
     "outputs": [
      {
       "output_type": "stream",
       "stream": "stdout",
       "text": [
        "[ 1.  1.  0.  0.  0.  0.  1.]\n",
        "0.0141723356009\n",
        "[ 0.          0.01417234  0.02834467  0.04251701  0.05668934  0.07086168\n",
        "  0.08503401  0.09920635  0.11337868  0.12755102  0.14172336  0.15589569\n",
        "  0.17006803  0.18424036  0.1984127 ]\n"
       ]
      }
     ],
     "prompt_number": 70
    },
    {
     "cell_type": "code",
     "collapsed": false,
     "input": [
      "\n"
     ],
     "language": "python",
     "metadata": {},
     "outputs": [],
     "prompt_number": 70
    }
   ],
   "metadata": {}
  }
 ]
}