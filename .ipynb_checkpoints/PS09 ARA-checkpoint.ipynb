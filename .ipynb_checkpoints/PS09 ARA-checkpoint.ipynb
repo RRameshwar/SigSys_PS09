{
 "metadata": {
  "name": "",
  "signature": "sha256:c8f825de847263d2001a8817453bd48d13cf1c573e392d9a29cd7425cd9fd642"
 },
 "nbformat": 3,
 "nbformat_minor": 0,
 "worksheets": [
  {
   "cells": [
    {
     "cell_type": "code",
     "collapsed": false,
     "input": [
      "from scipy.io import wavfile\n",
      "import numpy as np\n",
      "import matplotlib.pyplot as mplib\n",
      "import thinkdsp\n",
      "import thinkplot\n",
      "from array import array\n",
      "\n",
      "%matplotlib inline"
     ],
     "language": "python",
     "metadata": {},
     "outputs": [],
     "prompt_number": 69
    },
    {
     "cell_type": "code",
     "collapsed": false,
     "input": [
      "# This function converts a string into a numpy array of bits\n",
      "# note that it is assumed that each character is 7 bits long here\n",
      "def string2NPArray(s):\n",
      "    bits = np.array([])\n",
      "    for a in bytearray(s, 'ascii'):\n",
      "        for b in range(0,7):\n",
      "            bits = np.append(bits,float((a>>(7-b-1))&1))\n",
      "    return bits\n",
      "\n",
      "# This function converts a numpy array of bits to a string\n",
      "# note that it is assumed that each character is 7 bits long here\n",
      "def NPbits2String(bits):\n",
      "    S = \"\"\n",
      "    for a in np.arange(0, np.ceil(len(bits)/7)):\n",
      "        tmp = 0\n",
      "        for k in np.arange(0,7):\n",
      "            b = bits[a*7+k]\n",
      "            tmp = tmp + (2**(6-k))*b\n",
      "        S = S + chr(int(tmp))\n",
      "    return S\n",
      "\n",
      "# this function is used to help convert numpy array data into a format\n",
      "# suitable for writing into a wave file\n",
      "def convert_to_int16(sig):\n",
      "    # convert into int16  to write as wave\n",
      "    sig = (sig/np.max(sig))*(2**14)\n",
      "    sig = sig.astype('int16')\n",
      "    return sig\n",
      "\n",
      "def find_start_and_end(xf, threshold = 2000): \n",
      "    import numpy as np    \n",
      "    start_idx = -1\n",
      " \n",
      "    for k in range(0, len(xf)):\n",
      "        if(np.abs(xf[k])) > threshold:\n",
      "            start_idx = k\n",
      "            break\n",
      "\n",
      "    if(start_idx  < 0):\n",
      "        print \"Unable to detect start of transmission\"\n",
      "        return -1\n",
      "    \n",
      "    end_idx = -1\n",
      "    \n",
      "    for k in range(0, len(xf)):\n",
      "        if(np.abs(xf[len(xf)-k-1])) > threshold:\n",
      "            end_idx = len(xf)-k-1\n",
      "            break\n",
      "\n",
      "    if(end_idx < 0):\n",
      "        print \"Unable to detect end of transmission\"\n",
      "        return -1\n",
      "\n",
      "    return start_idx, end_idx"
     ],
     "language": "python",
     "metadata": {},
     "outputs": [],
     "prompt_number": 101
    },
    {
     "cell_type": "code",
     "collapsed": false,
     "input": [
      "def ARAencoding(array):\n",
      "    array2 = np.insert(array,0,1)\n",
      "    for a in range(len(array2)):\n",
      "        if array2[a] == 0:\n",
      "            array2[a] = -1\n",
      "    \n",
      "    #for a in range(0, len(array2)*2-2, 2):\n",
      "    #    array2 = np.insert(array2, a+1, 0)\n",
      "\n",
      "    return array2\n",
      "\n",
      "def createTransmission(array):\n",
      "    rate = 8820 #samples/sec\n",
      "    sym_length = 250.0 #samples\n",
      "    Ts = sym_length/rate  #sec\n",
      "    \n",
      "    x = np.arange(len(array))\n",
      "    x = x*Ts\n",
      "    \n",
      "    wavetotal = thinkdsp.CosSignal(freq = 1000, amp = 0, offset=0.0).make_wave(duration = 0)\n",
      "    for i in range(0,len(array)):\n",
      "        sig = thinkdsp.CosSignal(freq = 1000, amp = array[i], offset=0.0)\n",
      "        #sig = sig*x[i]\n",
      "        wave = (sig.make_wave(duration = Ts))\n",
      "        wavetotal= wavetotal.__or__(wave)\n",
      "    return wavetotal\n",
      "    \n",
      "    #mplib.show()  "
     ],
     "language": "python",
     "metadata": {},
     "outputs": [],
     "prompt_number": 93
    },
    {
     "cell_type": "code",
     "collapsed": false,
     "input": [
      "array = string2NPArray(\"hello\")\n",
      "print array\n",
      "encoded = ARAencoding(array)\n",
      "#print(createTransmission(encoded))"
     ],
     "language": "python",
     "metadata": {},
     "outputs": [
      {
       "output_type": "stream",
       "stream": "stdout",
       "text": [
        "[ 1.  1.  0.  1.  0.  0.  0.  1.  1.  0.  0.  1.  0.  1.  1.  1.  0.  1.\n",
        "  1.  0.  0.  1.  1.  0.  1.  1.  0.  0.  1.  1.  0.  1.  1.  1.  1.]\n"
       ]
      }
     ],
     "prompt_number": 94
    },
    {
     "cell_type": "code",
     "collapsed": false,
     "input": [
      "wavetotal = createTransmission(encoded)\n",
      "wavetotal.make_audio()"
     ],
     "language": "python",
     "metadata": {},
     "outputs": [
      {
       "output_type": "stream",
       "stream": "stdout",
       "text": [
        "0.0283446712018\n"
       ]
      },
      {
       "html": [
        "\n",
        "                <audio controls=\"controls\" >\n",
        "                    <source src=\"data:audio/wav;base64,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\" type=\"audio/wav\" />\n",
        "                    Your browser does not support the audio element.\n",
        "                </audio>\n",
        "              "
       ],
       "metadata": {},
       "output_type": "pyout",
       "prompt_number": 95,
       "text": [
        "<IPython.lib.display.Audio at 0x7ff9491a8810>"
       ]
      }
     ],
     "prompt_number": 95
    },
    {
     "cell_type": "code",
     "collapsed": false,
     "input": [
      "wavetotal.plot()\n",
      "mplib.show()"
     ],
     "language": "python",
     "metadata": {},
     "outputs": [
      {
       "metadata": {},
       "output_type": "display_data",
       "png": "[encoded data removed]",
       "text": [
        "<matplotlib.figure.Figure at 0x7ff949198a10>"
       ]
      }
     ],
     "prompt_number": 74
    },
    {
     "cell_type": "code",
     "collapsed": false,
     "input": [
      "def ARAdecoding(wave):\n",
      "    rate = 8820 #samples/sec\n",
      "    sym_length = 250.0 #samples\n",
      "    Ts = sym_length/rate  #sec\n",
      "    \n",
      "    wave_obj = thinkdsp.read_wave(wave)\n",
      "    amps = wave_obj.ys\n",
      "    start, end = find_start_and_end(amps)\n",
      "    print(start)\n",
      "    print(sym_length)\n",
      "    bits = []\n",
      "    for i in range(start+int(sym_length/2),end,int(sym_length)):\n",
      "        bits.append(amps[i])\n",
      "    print len(bits)"
     ],
     "language": "python",
     "metadata": {},
     "outputs": [],
     "prompt_number": 118
    },
    {
     "cell_type": "code",
     "collapsed": false,
     "input": [
      "ARAdecoding('AcousticModemTx.wav')\n",
      "#helloplot.plot()"
     ],
     "language": "python",
     "metadata": {},
     "outputs": [
      {
       "output_type": "stream",
       "stream": "stdout",
       "text": [
        "250\n",
        "250.0\n",
        "36\n"
       ]
      }
     ],
     "prompt_number": 119
    },
    {
     "cell_type": "code",
     "collapsed": false,
     "input": [],
     "language": "python",
     "metadata": {},
     "outputs": []
    }
   ],
   "metadata": {}
  }
 ]
}