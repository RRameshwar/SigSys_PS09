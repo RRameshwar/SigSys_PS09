{
 "metadata": {
  "name": "",
  "signature": "sha256:7a5329fb03441a32a7d300e7ef0d45c153541b512b02da0d216fbb78219d8327"
 },
 "nbformat": 3,
 "nbformat_minor": 0,
 "worksheets": [
  {
   "cells": [
    {
     "cell_type": "code",
     "collapsed": false,
     "input": [
      "from scipy.io import wavfile\n",
      "import numpy as np\n",
      "import math\n",
      "import matplotlib.pyplot as mplib\n",
      "import thinkdsp\n",
      "import thinkplot\n",
      "from array import array\n",
      "\n",
      "%matplotlib inline"
     ],
     "language": "python",
     "metadata": {},
     "outputs": [],
     "prompt_number": 141
    },
    {
     "cell_type": "code",
     "collapsed": false,
     "input": [
      "# This function converts a string into a numpy array of bits\n",
      "# note that it is assumed that each character is 7 bits long here\n",
      "def string2NPArray(s):\n",
      "    bits = np.array([])\n",
      "    for a in bytearray(s, 'ascii'):\n",
      "        for b in range(0,7):\n",
      "            bits = np.append(bits,float((a>>(7-b-1))&1))\n",
      "    return bits\n",
      "\n",
      "# This function converts a numpy array of bits to a string\n",
      "# note that it is assumed that each character is 7 bits long here\n",
      "def NPbits2String(bits):\n",
      "    S = \"\"\n",
      "    for a in np.arange(0, np.ceil(len(bits)/7)):\n",
      "        tmp = 0\n",
      "        for k in np.arange(0,7):\n",
      "            b = bits[a*7+k]\n",
      "            tmp = tmp + (2**(6-k))*b\n",
      "        S = S + chr(int(tmp))\n",
      "    return S\n",
      "\n",
      "# this function is used to help convert numpy array data into a format\n",
      "# suitable for writing into a wave file\n",
      "def convert_to_int16(sig):\n",
      "    # convert into int16  to write as wave\n",
      "    sig = (sig/np.max(sig))*(2**14)\n",
      "    sig = sig.astype('int16')\n",
      "    return sig\n",
      "\n",
      "def find_start_and_end(xf, threshold = 2000): \n",
      "    import numpy as np    \n",
      "    start_idx = -1\n",
      " \n",
      "    for k in range(0, len(xf)):\n",
      "        if(np.abs(xf[k])) > threshold:\n",
      "            start_idx = k\n",
      "            break\n",
      "\n",
      "    if(start_idx  < 0):\n",
      "        print \"Unable to detect start of transmission\"\n",
      "        return -1\n",
      "    \n",
      "    end_idx = -1\n",
      "    \n",
      "    for k in range(0, len(xf)):\n",
      "        if(np.abs(xf[len(xf)-k-1])) > threshold:\n",
      "            end_idx = len(xf)-k-1\n",
      "            break\n",
      "\n",
      "    if(end_idx < 0):\n",
      "        print \"Unable to detect end of transmission\"\n",
      "        return -1\n",
      "\n",
      "    return start_idx, end_idx"
     ],
     "language": "python",
     "metadata": {},
     "outputs": [],
     "prompt_number": 142
    },
    {
     "cell_type": "code",
     "collapsed": false,
     "input": [
      "def make_bits(array):\n",
      "    array2 = np.insert(array,0,1)\n",
      "#     array2 = np.insert(array2,0,0)\n",
      "#     array2 = np.insert(array2,len(array2),0)\n",
      "    \n",
      "    for a in range(len(array2)):\n",
      "        if array2[a] == 0:\n",
      "            array2[a] = -1\n",
      "    print array2\n",
      "    \n",
      "    #for a in range(0, len(array2)*2-2, 2):\n",
      "    #    array2 = np.insert(array2, a+1, 0)\n",
      "\n",
      "    return array2\n",
      "\n",
      "def createTransmission(array):\n",
      "    rate = 8820 #samples/sec\n",
      "    sym_length = 250 #samples\n",
      "    Ts = sym_length/rate  #sec\n",
      "    new_array = []\n",
      "    sig = []\n",
      "    \n",
      "    wavetotal = thinkdsp.CosSignal(freq = 1000, amp = 0, offset=0).make_wave(duration = 0)\n",
      "    \n",
      "    for i in range(0,len(array)):\n",
      "        new_array += sym_length*[array[i]]\n",
      "    \n",
      "    for i in range(0, len(new_array)):\n",
      "        sig.append(new_array[i]*np.cos(2*math.pi*1000*i/rate))\n",
      "\n",
      "    ts = np.arange(0, len(sig)/float(rate), 1/float(rate))\n",
      "    mplib.plot(ts, sig)\n",
      "    mplib.show()\n",
      "    wavfile.write('test.wav', 8820, convert_to_int16(sig))\n",
      "\n",
      "def ARAencode(string):\n",
      "    binary = string2NPArray(string)\n",
      "#     print binary\n",
      "    bits = make_bits(binary)\n",
      "    sound = createTransmission(bits)\n",
      "    return sound"
     ],
     "language": "python",
     "metadata": {},
     "outputs": [],
     "prompt_number": 143
    },
    {
     "cell_type": "code",
     "collapsed": false,
     "input": [
      "string = \"Bye\"\n",
      "ARAencode(string)\n",
      "sound = thinkdsp.read_wave('test.wav')\n",
      "sound.make_audio()"
     ],
     "language": "python",
     "metadata": {},
     "outputs": [
      {
       "output_type": "stream",
       "stream": "stdout",
       "text": [
        "[ 1.  1. -1. -1. -1. -1.  1. -1.  1.  1.  1.  1. -1. -1.  1.  1.  1. -1.\n",
        " -1.  1. -1.  1.]\n"
       ]
      },
      {
       "metadata": {},
       "output_type": "display_data",
       "png": "[encoded data removed]",
       "text": [
        "<matplotlib.figure.Figure at 0x7ffa5af58d90>"
       ]
      },
      {
       "html": [
        "\n",
        "                <audio controls=\"controls\" >\n",
        "                    <source src=\"data:audio/wav;base64,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\" type=\"audio/wav\" />\n",
        "                    Your browser does not support the audio element.\n",
        "                </audio>\n",
        "              "
       ],
       "metadata": {},
       "output_type": "pyout",
       "prompt_number": 186,
       "text": [
        "<IPython.lib.display.Audio at 0x7ffa5af58fd0>"
       ]
      }
     ],
     "prompt_number": 186
    },
    {
     "cell_type": "code",
     "collapsed": false,
     "input": [
      "def ARAdecoding(wave):\n",
      "    rate = 8820 #samples/sec\n",
      "    sym_length = 250 #samples\n",
      "    Ts = sym_length/rate  #sec\n",
      "    \n",
      "    wave_obj = thinkdsp.read_wave(wave)\n",
      "    amps = wave_obj.ys\n",
      "#     wave_obj = wave_obj.segment(start=Ts, duration=1.0)\n",
      "    \n",
      "    ts = wave_obj.ts\n",
      "    cos_ts = np.cos(2*math.pi*1000*ts)\n",
      "    new_amps = wave_obj.ys*cos_ts\n",
      "#     mplib.plot(ts, new_amps)\n",
      "    wave_obj.ys = new_amps\n",
      "    spec = wave_obj.make_spectrum()\n",
      "#     spec.plot()\n",
      "    spec.low_pass(500)\n",
      "    new_wave = spec.make_wave()\n",
      "    new_wave.plot()\n",
      "    mplib.show()\n",
      "\n",
      "    bits = []\n",
      "    start, end = find_start_and_end(new_wave.ys, threshold = 0)\n",
      "    for i in range(start+sym_length, end, sym_length):\n",
      "        bits.append(new_wave.ys[i])\n",
      "#     print bits\n",
      "    \n",
      "    for i in range(len(bits)):\n",
      "        if (bits[i]>0):\n",
      "            bits[i] = 1\n",
      "#         elif (bits[i]<0):\n",
      "#             bits[i] = -1\n",
      "        else:\n",
      "            bits[i] = 0\n",
      "    \n",
      "    bits = bits[1:len(bits)]\n",
      "    bits = np.int_(bits)\n",
      "    print (bits)\n",
      "    print len(bits)\n",
      "    return NPbits2String(bits)\n"
     ],
     "language": "python",
     "metadata": {},
     "outputs": [],
     "prompt_number": 187
    },
    {
     "cell_type": "code",
     "collapsed": false,
     "input": [
      "wav = 'test.wav'\n",
      "text = ARAdecoding(wav)\n",
      "print text"
     ],
     "language": "python",
     "metadata": {},
     "outputs": [
      {
       "metadata": {},
       "output_type": "display_data",
       "png": "[encoded data removed]",
       "text": [
        "<matplotlib.figure.Figure at 0x7ffa5b444dd0>"
       ]
      },
      {
       "output_type": "stream",
       "stream": "stdout",
       "text": [
        "[1 0 0 0 1 0 1 1 1 1 1 0 1 1 1 0 0 0 0 1]\n",
        "20\n",
        "E{\n"
       ]
      }
     ],
     "prompt_number": 188
    }
   ],
   "metadata": {}
  }
 ]
}